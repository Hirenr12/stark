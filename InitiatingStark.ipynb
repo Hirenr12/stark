{
  "cells": [
    {
      "cell_type": "markdown",
      "metadata": {
        "id": "view-in-github",
        "colab_type": "text"
      },
      "source": [
        "<a href=\"https://colab.research.google.com/github/Hirenr12/stark/blob/main/InitiatingStark.ipynb\" target=\"_parent\"><img src=\"https://colab.research.google.com/assets/colab-badge.svg\" alt=\"Open In Colab\"/></a>"
      ]
    },
    {
      "cell_type": "markdown",
      "metadata": {
        "id": "duI4ZCCix55U"
      },
      "source": [
        "Install Spark and Java"
      ]
    },
    {
      "cell_type": "code",
      "execution_count": null,
      "metadata": {
        "id": "e9NruWQ2v08X"
      },
      "outputs": [],
      "source": [
        "!apt-get install openjdk-11-jdk-headless -qq > /dev/null\n",
        "!wget -q https://archive.apache.org/dist/spark/spark-3.5.0/spark-3.5.0-bin-hadoop3.tgz\n",
        "!tar xf spark-3.5.0-bin-hadoop3.tgz\n",
        "!pip install -q findspark kaggle"
      ]
    },
    {
      "cell_type": "markdown",
      "metadata": {
        "id": "JJEM7q_N03Rv"
      },
      "source": [
        "Import Libraries"
      ]
    },
    {
      "cell_type": "code",
      "execution_count": null,
      "metadata": {
        "id": "rK3Y08hsz0EJ"
      },
      "outputs": [],
      "source": [
        "import os\n",
        "from pyspark.sql import SparkSession\n",
        "from pyspark.sql.functions import col, year, count, desc,split, explode\n",
        "import matplotlib.pyplot as plt\n",
        "import findspark"
      ]
    },
    {
      "cell_type": "markdown",
      "metadata": {
        "id": "uFRG1siRx4_G"
      },
      "source": [
        "Set Environment Variables"
      ]
    },
    {
      "cell_type": "code",
      "execution_count": null,
      "metadata": {
        "id": "W-i5n5pBz-sV"
      },
      "outputs": [],
      "source": [
        "os.environ[\"JAVA_HOME\"] = \"/usr/lib/jvm/java-11-openjdk-amd64\"\n",
        "os.environ[\"SPARK_HOME\"] = \"/content/spark-3.5.0-bin-hadoop3\""
      ]
    },
    {
      "cell_type": "markdown",
      "metadata": {
        "id": "v6pbh1Cb9X-4"
      },
      "source": [
        "**Initialise Spark Session**\n",
        "\n",
        "Sparksession is the entry point to Spark functionality in python (PySpark). We will create a Spark application called \"Netflix Spark-Activity\"."
      ]
    },
    {
      "cell_type": "code",
      "execution_count": null,
      "metadata": {
        "colab": {
          "base_uri": "https://localhost:8080/",
          "height": 219
        },
        "id": "1FHJLvPtAZMJ",
        "outputId": "54553990-2fca-4e62-cf8f-74df7bc0dbdf"
      },
      "outputs": [
        {
          "output_type": "execute_result",
          "data": {
            "text/plain": [
              "<pyspark.sql.session.SparkSession at 0x7b38c41d0890>"
            ],
            "text/html": [
              "\n",
              "            <div>\n",
              "                <p><b>SparkSession - in-memory</b></p>\n",
              "                \n",
              "        <div>\n",
              "            <p><b>SparkContext</b></p>\n",
              "\n",
              "            <p><a href=\"http://ad51e6e2b176:4040\">Spark UI</a></p>\n",
              "\n",
              "            <dl>\n",
              "              <dt>Version</dt>\n",
              "                <dd><code>v3.5.0</code></dd>\n",
              "              <dt>Master</dt>\n",
              "                <dd><code>local[*]</code></dd>\n",
              "              <dt>AppName</dt>\n",
              "                <dd><code>Amazon-Review-Activity</code></dd>\n",
              "            </dl>\n",
              "        </div>\n",
              "        \n",
              "            </div>\n",
              "        "
            ]
          },
          "metadata": {},
          "execution_count": 5
        }
      ],
      "source": [
        "findspark.init()\n",
        "spark = SparkSession.builder.appName(\"Amazon-Review-Activity\").getOrCreate()\n",
        "spark"
      ]
    },
    {
      "cell_type": "markdown",
      "metadata": {
        "id": "RY7IgHlFAuPA"
      },
      "source": [
        "**Load Dataset into Spark**\n",
        "\n",
        "We can use the colab upload feature if needed, or cancel and upload to files"
      ]
    },
    {
      "cell_type": "code",
      "execution_count": null,
      "metadata": {
        "colab": {
          "base_uri": "https://localhost:8080/",
          "height": 73
        },
        "id": "HI45Oy3H-u3i",
        "outputId": "80f02c8e-b38c-414d-d02d-513a61ba5e15"
      },
      "outputs": [
        {
          "output_type": "display_data",
          "data": {
            "text/plain": [
              "<IPython.core.display.HTML object>"
            ],
            "text/html": [
              "\n",
              "     <input type=\"file\" id=\"files-cdea06a5-bf03-443a-9c1a-5b0ba749e206\" name=\"files[]\" multiple disabled\n",
              "        style=\"border:none\" />\n",
              "     <output id=\"result-cdea06a5-bf03-443a-9c1a-5b0ba749e206\">\n",
              "      Upload widget is only available when the cell has been executed in the\n",
              "      current browser session. Please rerun this cell to enable.\n",
              "      </output>\n",
              "      <script>// Copyright 2017 Google LLC\n",
              "//\n",
              "// Licensed under the Apache License, Version 2.0 (the \"License\");\n",
              "// you may not use this file except in compliance with the License.\n",
              "// You may obtain a copy of the License at\n",
              "//\n",
              "//      http://www.apache.org/licenses/LICENSE-2.0\n",
              "//\n",
              "// Unless required by applicable law or agreed to in writing, software\n",
              "// distributed under the License is distributed on an \"AS IS\" BASIS,\n",
              "// WITHOUT WARRANTIES OR CONDITIONS OF ANY KIND, either express or implied.\n",
              "// See the License for the specific language governing permissions and\n",
              "// limitations under the License.\n",
              "\n",
              "/**\n",
              " * @fileoverview Helpers for google.colab Python module.\n",
              " */\n",
              "(function(scope) {\n",
              "function span(text, styleAttributes = {}) {\n",
              "  const element = document.createElement('span');\n",
              "  element.textContent = text;\n",
              "  for (const key of Object.keys(styleAttributes)) {\n",
              "    element.style[key] = styleAttributes[key];\n",
              "  }\n",
              "  return element;\n",
              "}\n",
              "\n",
              "// Max number of bytes which will be uploaded at a time.\n",
              "const MAX_PAYLOAD_SIZE = 100 * 1024;\n",
              "\n",
              "function _uploadFiles(inputId, outputId) {\n",
              "  const steps = uploadFilesStep(inputId, outputId);\n",
              "  const outputElement = document.getElementById(outputId);\n",
              "  // Cache steps on the outputElement to make it available for the next call\n",
              "  // to uploadFilesContinue from Python.\n",
              "  outputElement.steps = steps;\n",
              "\n",
              "  return _uploadFilesContinue(outputId);\n",
              "}\n",
              "\n",
              "// This is roughly an async generator (not supported in the browser yet),\n",
              "// where there are multiple asynchronous steps and the Python side is going\n",
              "// to poll for completion of each step.\n",
              "// This uses a Promise to block the python side on completion of each step,\n",
              "// then passes the result of the previous step as the input to the next step.\n",
              "function _uploadFilesContinue(outputId) {\n",
              "  const outputElement = document.getElementById(outputId);\n",
              "  const steps = outputElement.steps;\n",
              "\n",
              "  const next = steps.next(outputElement.lastPromiseValue);\n",
              "  return Promise.resolve(next.value.promise).then((value) => {\n",
              "    // Cache the last promise value to make it available to the next\n",
              "    // step of the generator.\n",
              "    outputElement.lastPromiseValue = value;\n",
              "    return next.value.response;\n",
              "  });\n",
              "}\n",
              "\n",
              "/**\n",
              " * Generator function which is called between each async step of the upload\n",
              " * process.\n",
              " * @param {string} inputId Element ID of the input file picker element.\n",
              " * @param {string} outputId Element ID of the output display.\n",
              " * @return {!Iterable<!Object>} Iterable of next steps.\n",
              " */\n",
              "function* uploadFilesStep(inputId, outputId) {\n",
              "  const inputElement = document.getElementById(inputId);\n",
              "  inputElement.disabled = false;\n",
              "\n",
              "  const outputElement = document.getElementById(outputId);\n",
              "  outputElement.innerHTML = '';\n",
              "\n",
              "  const pickedPromise = new Promise((resolve) => {\n",
              "    inputElement.addEventListener('change', (e) => {\n",
              "      resolve(e.target.files);\n",
              "    });\n",
              "  });\n",
              "\n",
              "  const cancel = document.createElement('button');\n",
              "  inputElement.parentElement.appendChild(cancel);\n",
              "  cancel.textContent = 'Cancel upload';\n",
              "  const cancelPromise = new Promise((resolve) => {\n",
              "    cancel.onclick = () => {\n",
              "      resolve(null);\n",
              "    };\n",
              "  });\n",
              "\n",
              "  // Wait for the user to pick the files.\n",
              "  const files = yield {\n",
              "    promise: Promise.race([pickedPromise, cancelPromise]),\n",
              "    response: {\n",
              "      action: 'starting',\n",
              "    }\n",
              "  };\n",
              "\n",
              "  cancel.remove();\n",
              "\n",
              "  // Disable the input element since further picks are not allowed.\n",
              "  inputElement.disabled = true;\n",
              "\n",
              "  if (!files) {\n",
              "    return {\n",
              "      response: {\n",
              "        action: 'complete',\n",
              "      }\n",
              "    };\n",
              "  }\n",
              "\n",
              "  for (const file of files) {\n",
              "    const li = document.createElement('li');\n",
              "    li.append(span(file.name, {fontWeight: 'bold'}));\n",
              "    li.append(span(\n",
              "        `(${file.type || 'n/a'}) - ${file.size} bytes, ` +\n",
              "        `last modified: ${\n",
              "            file.lastModifiedDate ? file.lastModifiedDate.toLocaleDateString() :\n",
              "                                    'n/a'} - `));\n",
              "    const percent = span('0% done');\n",
              "    li.appendChild(percent);\n",
              "\n",
              "    outputElement.appendChild(li);\n",
              "\n",
              "    const fileDataPromise = new Promise((resolve) => {\n",
              "      const reader = new FileReader();\n",
              "      reader.onload = (e) => {\n",
              "        resolve(e.target.result);\n",
              "      };\n",
              "      reader.readAsArrayBuffer(file);\n",
              "    });\n",
              "    // Wait for the data to be ready.\n",
              "    let fileData = yield {\n",
              "      promise: fileDataPromise,\n",
              "      response: {\n",
              "        action: 'continue',\n",
              "      }\n",
              "    };\n",
              "\n",
              "    // Use a chunked sending to avoid message size limits. See b/62115660.\n",
              "    let position = 0;\n",
              "    do {\n",
              "      const length = Math.min(fileData.byteLength - position, MAX_PAYLOAD_SIZE);\n",
              "      const chunk = new Uint8Array(fileData, position, length);\n",
              "      position += length;\n",
              "\n",
              "      const base64 = btoa(String.fromCharCode.apply(null, chunk));\n",
              "      yield {\n",
              "        response: {\n",
              "          action: 'append',\n",
              "          file: file.name,\n",
              "          data: base64,\n",
              "        },\n",
              "      };\n",
              "\n",
              "      let percentDone = fileData.byteLength === 0 ?\n",
              "          100 :\n",
              "          Math.round((position / fileData.byteLength) * 100);\n",
              "      percent.textContent = `${percentDone}% done`;\n",
              "\n",
              "    } while (position < fileData.byteLength);\n",
              "  }\n",
              "\n",
              "  // All done.\n",
              "  yield {\n",
              "    response: {\n",
              "      action: 'complete',\n",
              "    }\n",
              "  };\n",
              "}\n",
              "\n",
              "scope.google = scope.google || {};\n",
              "scope.google.colab = scope.google.colab || {};\n",
              "scope.google.colab._files = {\n",
              "  _uploadFiles,\n",
              "  _uploadFilesContinue,\n",
              "};\n",
              "})(self);\n",
              "</script> "
            ]
          },
          "metadata": {}
        },
        {
          "output_type": "stream",
          "name": "stdout",
          "text": [
            "Saving output.csv to output.csv\n"
          ]
        }
      ],
      "source": [
        "from google.colab import files\n",
        "uploaded = files.upload()"
      ]
    },
    {
      "cell_type": "markdown",
      "source": [],
      "metadata": {
        "id": "NwC5ai0paZHR"
      }
    },
    {
      "cell_type": "code",
      "source": [
        "# Read as tab-separated\n",
        "df = spark.read.csv(\"output.csv\", sep=\"\\t\", header=False, inferSchema=True)\n",
        "\n",
        "# Rename columns (assuming dataset format: __label__X <review_text>)\n",
        "df = df.withColumnRenamed(\"_c0\", \"label\").withColumnRenamed(\"_c1\", \"review\")\n",
        "\n",
        "# Check schema\n",
        "df.printSchema()\n",
        "df.show()\n"
      ],
      "metadata": {
        "colab": {
          "base_uri": "https://localhost:8080/"
        },
        "id": "bYO3ZjK3Z0gR",
        "outputId": "e3fa215c-d936-45e5-8616-98b55c849e69"
      },
      "execution_count": null,
      "outputs": [
        {
          "output_type": "stream",
          "name": "stdout",
          "text": [
            "root\n",
            " |-- label: string (nullable = true)\n",
            "\n",
            "+--------------------+\n",
            "|               label|\n",
            "+--------------------+\n",
            "|\"__label__2 Great...|\n",
            "|__label__2 One of...|\n",
            "|__label__1 Batter...|\n",
            "|__label__2 works ...|\n",
            "|__label__2 Great ...|\n",
            "|__label__1 DVD Pl...|\n",
            "|__label__1 Incorr...|\n",
            "|__label__1 DVD me...|\n",
            "|\"__label__2 Uniqu...|\n",
            "|\"__label__1 Not a...|\n",
            "|__label__2 Great ...|\n",
            "|__label__1 Not!: ...|\n",
            "|\"__label__1 A com...|\n",
            "|__label__2 TRULY ...|\n",
            "|__label__1 didn't...|\n",
            "|__label__1 Don't ...|\n",
            "|__label__2 Simple...|\n",
            "|__label__2 Review...|\n",
            "|__label__2 SOY UN...|\n",
            "|__label__2 Some o...|\n",
            "+--------------------+\n",
            "only showing top 20 rows\n",
            "\n"
          ]
        }
      ]
    },
    {
      "cell_type": "markdown",
      "source": [
        "EDA"
      ],
      "metadata": {
        "id": "KtKBKoGV_FgH"
      }
    },
    {
      "cell_type": "code",
      "source": [
        "print(\"Total rows:\", df.count())\n",
        "\n",
        "print(\"Columns:\", df.columns)\n",
        "\n"
      ],
      "metadata": {
        "colab": {
          "base_uri": "https://localhost:8080/"
        },
        "id": "lMggdqA_-4go",
        "outputId": "2eca47ae-a134-4d07-d0ce-deaecacb6145"
      },
      "execution_count": null,
      "outputs": [
        {
          "output_type": "stream",
          "name": "stdout",
          "text": [
            "Total rows: 400003\n",
            "Columns: ['label']\n"
          ]
        }
      ]
    },
    {
      "cell_type": "code",
      "source": [
        "df.createOrReplaceTempView(\"reviews\")\n"
      ],
      "metadata": {
        "id": "LLcDU7tIMVBF"
      },
      "execution_count": null,
      "outputs": []
    },
    {
      "cell_type": "code",
      "source": [
        "spark.sql(\"\"\"\n",
        "SELECT label, COUNT(*) as total_reviews\n",
        "FROM reviews\n",
        "GROUP BY label\n",
        "ORDER BY total_reviews DESC\n",
        "\"\"\").show()\n"
      ],
      "metadata": {
        "colab": {
          "base_uri": "https://localhost:8080/"
        },
        "id": "3Y7rTbAEMZf0",
        "outputId": "6520f28a-88bd-4d94-fa7d-deceba10dda0"
      },
      "execution_count": null,
      "outputs": [
        {
          "output_type": "stream",
          "name": "stdout",
          "text": [
            "+--------------------+-------------+\n",
            "|               label|total_reviews|\n",
            "+--------------------+-------------+\n",
            "|\"__label__2 Great...|            4|\n",
            "|__label__1 The Sc...|            1|\n",
            "|\"__label__1 Crap,...|            1|\n",
            "|__label__2 Itten ...|            1|\n",
            "|\"__label__1 Buy t...|            1|\n",
            "|__label__2 Good Q...|            1|\n",
            "|__label__2 Viewed...|            1|\n",
            "|__label__1 Boring...|            1|\n",
            "|\"__label__1 Goes ...|            1|\n",
            "|__label__1 Outlin...|            1|\n",
            "|__label__2 Great ...|            1|\n",
            "|__label__1 Where ...|            1|\n",
            "|__label__2 Excele...|            1|\n",
            "|\"__label__2 North...|            1|\n",
            "|\"__label__2 Well ...|            1|\n",
            "|\"__label__1 A Tru...|            1|\n",
            "|__label__2 The so...|            1|\n",
            "|__label__2 Nice s...|            1|\n",
            "|__label__2 Jane i...|            1|\n",
            "|__label__2 Wonder...|            1|\n",
            "+--------------------+-------------+\n",
            "only showing top 20 rows\n",
            "\n"
          ]
        }
      ]
    },
    {
      "cell_type": "code",
      "source": [
        "spark.sql(\"\"\"\n",
        "SELECT label, COUNT(*) as review_count\n",
        "FROM reviews\n",
        "GROUP BY label\n",
        "ORDER BY review_count DESC\n",
        "\"\"\").show()\n"
      ],
      "metadata": {
        "colab": {
          "base_uri": "https://localhost:8080/"
        },
        "id": "s_oUxnXoM1i9",
        "outputId": "34079d37-7d9c-4267-da5d-b32684a2765a"
      },
      "execution_count": null,
      "outputs": [
        {
          "output_type": "stream",
          "name": "stdout",
          "text": [
            "+--------------------+------------+\n",
            "|               label|review_count|\n",
            "+--------------------+------------+\n",
            "|\"__label__2 Great...|           4|\n",
            "|__label__1 The Sc...|           1|\n",
            "|\"__label__1 Crap,...|           1|\n",
            "|__label__2 Itten ...|           1|\n",
            "|\"__label__1 Buy t...|           1|\n",
            "|__label__2 Good Q...|           1|\n",
            "|__label__2 Viewed...|           1|\n",
            "|__label__1 Boring...|           1|\n",
            "|\"__label__1 Goes ...|           1|\n",
            "|__label__1 Outlin...|           1|\n",
            "|__label__2 Great ...|           1|\n",
            "|__label__1 Where ...|           1|\n",
            "|__label__2 Excele...|           1|\n",
            "|\"__label__2 North...|           1|\n",
            "|\"__label__2 Well ...|           1|\n",
            "|\"__label__1 A Tru...|           1|\n",
            "|__label__2 The so...|           1|\n",
            "|__label__2 Nice s...|           1|\n",
            "|__label__2 Jane i...|           1|\n",
            "|__label__2 Wonder...|           1|\n",
            "+--------------------+------------+\n",
            "only showing top 20 rows\n",
            "\n"
          ]
        }
      ]
    },
    {
      "cell_type": "code",
      "source": [
        "df.groupBy(\"label\").count().orderBy(\"count\", ascending=False).show()\n"
      ],
      "metadata": {
        "colab": {
          "base_uri": "https://localhost:8080/"
        },
        "id": "kHLM13WANGxB",
        "outputId": "df5a4aca-f1e1-4ff7-e500-b0b69092da6f"
      },
      "execution_count": null,
      "outputs": [
        {
          "output_type": "stream",
          "name": "stdout",
          "text": [
            "+--------------------+-----+\n",
            "|               label|count|\n",
            "+--------------------+-----+\n",
            "|\"__label__2 Great...|    4|\n",
            "|__label__1 The Sc...|    1|\n",
            "|\"__label__1 Crap,...|    1|\n",
            "|__label__2 Itten ...|    1|\n",
            "|\"__label__1 Buy t...|    1|\n",
            "|__label__2 Good Q...|    1|\n",
            "|__label__2 Viewed...|    1|\n",
            "|__label__1 Boring...|    1|\n",
            "|\"__label__1 Goes ...|    1|\n",
            "|__label__1 Outlin...|    1|\n",
            "|__label__2 Great ...|    1|\n",
            "|__label__1 Where ...|    1|\n",
            "|__label__2 Excele...|    1|\n",
            "|\"__label__2 North...|    1|\n",
            "|\"__label__2 Well ...|    1|\n",
            "|\"__label__1 A Tru...|    1|\n",
            "|__label__2 The so...|    1|\n",
            "|__label__2 Nice s...|    1|\n",
            "|__label__2 Jane i...|    1|\n",
            "|__label__2 Wonder...|    1|\n",
            "+--------------------+-----+\n",
            "only showing top 20 rows\n",
            "\n"
          ]
        }
      ]
    },
    {
      "cell_type": "code",
      "source": [
        "from pyspark.sql.functions import split, size, when, col\n",
        "\n",
        "# If the current \"label\" column actually contains both the label and review in one string:\n",
        "df = df.withColumn(\"label_only\", split(col(\"label\"), \" \")[0]) \\\n",
        "       .withColumn(\"review\", split(col(\"label\"), \" \", 2).getItem(1))\n",
        "\n",
        "# Replace label column with cleaned label_only\n",
        "df = df.drop(\"label\").withColumnRenamed(\"label_only\", \"label\")\n",
        "\n",
        "# Add review_length\n",
        "df = df.withColumn(\"review_length\", size(split(col(\"review\"), \" \")))\n",
        "\n",
        "# Create is_positive column based on FastText label\n",
        "df = df.withColumn(\"is_positive\", when(col(\"label\") == \"__label__2\", 1).otherwise(0))\n",
        "\n",
        "df.show(5, truncate=False)\n"
      ],
      "metadata": {
        "colab": {
          "base_uri": "https://localhost:8080/"
        },
        "id": "xBoH7RW5NONa",
        "outputId": "e86a69fb-624e-4c26-cdde-5d647acca873"
      },
      "execution_count": null,
      "outputs": [
        {
          "output_type": "stream",
          "name": "stdout",
          "text": [
            "+-----------+------------------------------------------------------------------------------------------------------------------------------------------------------------------------------------------------------------------------------------------------------------------------------------------------------------------------------------------------------------------------------------------------------------------------------------------------------------------------------------------------------------------------------------------------------------------------------------------------------------------------------------------------------------------------------------------------------------------------------------------------------------------------------------------------------------------------------------------------+-------------+-----------+\n",
            "|label      |review                                                                                                                                                                                                                                                                                                                                                                                                                                                                                                                                                                                                                                                                                                                                                                                                                                          |review_length|is_positive|\n",
            "+-----------+------------------------------------------------------------------------------------------------------------------------------------------------------------------------------------------------------------------------------------------------------------------------------------------------------------------------------------------------------------------------------------------------------------------------------------------------------------------------------------------------------------------------------------------------------------------------------------------------------------------------------------------------------------------------------------------------------------------------------------------------------------------------------------------------------------------------------------------------+-------------+-----------+\n",
            "|\"__label__2|Great CD: My lovely Pat has one of the GREAT voices of her generation. I have listened to this CD for YEARS and I still LOVE IT. When I'm in a good mood it makes me feel better. A bad mood just evaporates like sugar in the rain. This CD just oozes LIFE. Vocals are jusat STUUNNING and lyrics just kill. One of life's hidden gems. This is a desert isle CD in my book. Why she never made it big is just beyond me. Everytime I play this, no matter black, white, young, old, male, female EVERYBODY says one thing \"\"Who was that singing ?\"\"\"                                                                                                                                                                                                                                                                                        |106          |0          |\n",
            "|__label__2 |One of the best game music soundtracks - for a game I didn't really play: Despite the fact that I have only played a small portion of the game, the music I heard (plus the connection to Chrono Trigger which was great as well) led me to purchase the soundtrack, and it remains one of my favorite albums. There is an incredible mix of fun, epic, and emotional songs. Those sad and beautiful tracks I especially like, as there's not too many of those kinds of songs in my other video game soundtracks. I must admit that one of the songs (Life-A Distant Promise) has brought tears to my eyes on many occasions.My one complaint about this soundtrack is that they use guitar fretting effects in many of the songs, which I find distracting. But even if those weren't included I would still consider the collection worth it.|148          |1          |\n",
            "|__label__1 |Batteries died within a year ...: I bought this charger in Jul 2003 and it worked OK for a while. The design is nice and convenient. However, after about a year, the batteries would not hold a charge. Might as well just get alkaline disposables, or look elsewhere for a charger that comes with batteries that have better staying power.                                                                                                                                                                                                                                                                                                                                                                                                                                                                                                 |60           |0          |\n",
            "|__label__2 |works fine, but Maha Energy is better: Check out Maha Energy's website. Their Powerex MH-C204F charger works in 100 minutes for rapid charge, with option for slower charge (better for batteries). And they have 2200 mAh batteries.                                                                                                                                                                                                                                                                                                                                                                                                                                                                                                                                                                                                           |37           |1          |\n",
            "|__label__2 |Great for the non-audiophile: Reviewed quite a bit of the combo players and was hesitant due to unfavorable reviews and size of machines. I am weaning off my VHS collection, but don't want to replace them with DVD's. This unit is well built, easy to setup and resolution and special effects (no progressive scan for HDTV owners) suitable for many people looking for a versatile product.Cons- No universal remote.                                                                                                                                                                                                                                                                                                                                                                                                                    |69           |1          |\n",
            "+-----------+------------------------------------------------------------------------------------------------------------------------------------------------------------------------------------------------------------------------------------------------------------------------------------------------------------------------------------------------------------------------------------------------------------------------------------------------------------------------------------------------------------------------------------------------------------------------------------------------------------------------------------------------------------------------------------------------------------------------------------------------------------------------------------------------------------------------------------------------+-------------+-----------+\n",
            "only showing top 5 rows\n",
            "\n"
          ]
        }
      ]
    },
    {
      "cell_type": "markdown",
      "source": [
        "VISUALISATION"
      ],
      "metadata": {
        "id": "47qFsE79Ve45"
      }
    },
    {
      "cell_type": "code",
      "source": [
        "from pyspark.sql.functions import when, col\n",
        "\n",
        "# Map FastText labels to star ratings (example mapping)\n",
        "df = df.withColumn(\n",
        "    \"star_rating\",\n",
        "    when(col(\"label\") == \"__label__2\", 5)\n",
        "    .when(col(\"label\") == \"__label__1\", 1)\n",
        ")\n",
        "\n",
        "# Now group and plot\n",
        "rating_dist = df.groupBy(\"star_rating\").count().toPandas()\n",
        "\n",
        "plt.bar(rating_dist[\"star_rating\"], rating_dist[\"count\"])\n",
        "plt.xlabel(\"Star Rating\")\n",
        "plt.ylabel(\"Number of Reviews\")\n",
        "plt.title(\"Distribution of Reviews by Star Rating\")\n",
        "plt.show()\n"
      ],
      "metadata": {
        "colab": {
          "base_uri": "https://localhost:8080/",
          "height": 472
        },
        "id": "B98c8EQoNjy8",
        "outputId": "75b3efd5-652b-4322-a7bb-403964b6fdee"
      },
      "execution_count": null,
      "outputs": [
        {
          "output_type": "display_data",
          "data": {
            "text/plain": [
              "<Figure size 640x480 with 1 Axes>"
            ],
            "image/png": "[encoded data removed]"
          },
          "metadata": {}
        }
      ]
    }
  ],
  "metadata": {
    "colab": {
      "provenance": [],
      "authorship_tag": "ABX9TyOShWAohoiz4Y2Ktb57L0lG",
      "include_colab_link": true
    },
    "kernelspec": {
      "display_name": "Python 3",
      "name": "python3"
    },
    "language_info": {
      "name": "python"
    }
  },
  "nbformat": 4,
  "nbformat_minor": 0
}